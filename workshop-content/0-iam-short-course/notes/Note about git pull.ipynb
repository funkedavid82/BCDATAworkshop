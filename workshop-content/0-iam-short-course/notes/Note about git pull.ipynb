{
 "cells": [
  {
   "cell_type": "markdown",
   "metadata": {},
   "source": [
    "When you open a Jupyter notebook and make changes to it, sometimes `git` will give you a hard time when you then try and `pull` the repository to get the latest updates. The simplest option is to overwrite all of the changes you made to the file. You can do this using \n",
    "```bash\n",
    "git pull -f origin master\n",
    "```\n",
    "However, if you want to keep your local changes, then you have to do something with them before you can `pull` from the `remote`. The way to do this is as follows\n",
    "```bash\n",
    "git stash\n",
    "git pull \n",
    "git stash pop\n",
    "```\n",
    "Now, if there is a conflict when you try to pop the stash back on top the new commit, you can resolve it in the following way:\n",
    "```bash\n",
    "git checkout --theirs -- myfile.txt\n",
    "```\n",
    "\n",
    "I think this [StackOverflow](https://stackoverflow.com/questions/10414769/git-pull-keeping-local-changes) answer probably does a better job describing the specific situation, while this [documentation page](https://git-scm.com/docs/git-checkout) gives in-depth detail on `git checkout`. "
   ]
  }
 ],
 "metadata": {
  "kernelspec": {
   "display_name": "Python 3",
   "language": "python",
   "name": "python3"
  },
  "language_info": {
   "codemirror_mode": {
    "name": "ipython",
    "version": 3
   },
   "file_extension": ".py",
   "mimetype": "text/x-python",
   "name": "python",
   "nbconvert_exporter": "python",
   "pygments_lexer": "ipython3",
   "version": "3.6.1"
  }
 },
 "nbformat": 4,
 "nbformat_minor": 2
}
