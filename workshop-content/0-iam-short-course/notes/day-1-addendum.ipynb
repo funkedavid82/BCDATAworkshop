{
 "cells": [
  {
   "cell_type": "markdown",
   "metadata": {},
   "source": [
    "# BCDATA Data Science Workshop\n",
    "\n",
    "### More Git and Python\n",
    "\n",
    "1. [Git branches](#git-branches)\n",
    "2. [Python objects and classes](#python-objects-classes)\n",
    "\n",
    "---\n",
    "\n",
    "Patrick Walls\n",
    "\n",
    "pwalls@math.ubc.ca\n",
    "\n",
    "---"
   ]
  },
  {
   "cell_type": "markdown",
   "metadata": {},
   "source": [
    "<a id='git-branches'></a>\n",
    "## Git branches\n",
    "\n",
    "A [branch](https://git-scm.com/book/en/v2/Git-Branching-Branches-in-a-Nutshell) in a Git repository is a way to make changes to your project while keeping the last version of it intact. It's always a good idea to create a new branch when making changes or experimenting with your project. Create a new branch named `testing` by typing the command:\n",
    "\n",
    "```\n",
    "$ git branch testing\n",
    "```\n",
    "\n",
    "See the list of all the branches in your project and which is the current branch:\n",
    "\n",
    "```\n",
    "$ git branch --list\n",
    "```\n",
    "\n",
    "Switch to the `testing` branch:\n",
    "\n",
    "```\n",
    "$ git checkout testing\n",
    "```\n",
    "\n",
    "Switch back to the `master` branch:\n",
    "\n",
    "```\n",
    "$ git checkout master\n",
    "```\n",
    "\n",
    "If you want to add changes (ie. commits) from the testing branch to the master branch, [merge](https://git-scm.com/book/en/v2/Git-Branching-Basic-Branching-and-Merging) the testing branch to the master branch:\n",
    "\n",
    "```\n",
    "$ git checkout master\n",
    "$ git merge testing\n",
    "```"
   ]
  },
  {
   "cell_type": "markdown",
   "metadata": {},
   "source": [
    "---\n",
    "\n",
    "<a id='python-objects-classes'></a>\n",
    "## Python objects and classes\n",
    "\n",
    "<a id='what-objects-classes'></a>\n",
    "### What are objects and classes?\n",
    "\n",
    "A [Python object](https://docs.python.org/3/tutorial/classes.html) is a logical collection of data (called attributes) and functions (called methods). An object's methods can modify the object's data or produce new data. A [Python class](https://docs.python.org/3/tutorial/classes.html) is a blueprint for creating new objects. Fianlly, we access attributes and methods using the dot syntax."
   ]
  },
  {
   "cell_type": "markdown",
   "metadata": {},
   "source": [
    "<a id='complex-objects'></a>\n",
    "### Example: `complex` objects\n",
    "\n",
    "Consider Python's `complex` datatype. This is a Python class and we can create new objects of the `complex` class:"
   ]
  },
  {
   "cell_type": "code",
   "execution_count": 1,
   "metadata": {},
   "outputs": [
    {
     "name": "stdout",
     "output_type": "stream",
     "text": [
      "(1+2j)\n"
     ]
    }
   ],
   "source": [
    "z = complex(1,2)\n",
    "print(z)"
   ]
  },
  {
   "cell_type": "code",
   "execution_count": 2,
   "metadata": {},
   "outputs": [
    {
     "data": {
      "text/plain": [
       "complex"
      ]
     },
     "execution_count": 2,
     "metadata": {},
     "output_type": "execute_result"
    }
   ],
   "source": [
    "type(z)"
   ]
  },
  {
   "cell_type": "markdown",
   "metadata": {},
   "source": [
    "A `complex` object has attributes `real` and `imag` which represent the real and imaginary parts of the complex number:"
   ]
  },
  {
   "cell_type": "code",
   "execution_count": 3,
   "metadata": {},
   "outputs": [
    {
     "data": {
      "text/plain": [
       "1.0"
      ]
     },
     "execution_count": 3,
     "metadata": {},
     "output_type": "execute_result"
    }
   ],
   "source": [
    "z.real"
   ]
  },
  {
   "cell_type": "code",
   "execution_count": 4,
   "metadata": {},
   "outputs": [
    {
     "data": {
      "text/plain": [
       "2.0"
      ]
     },
     "execution_count": 4,
     "metadata": {},
     "output_type": "execute_result"
    }
   ],
   "source": [
    "z.imag"
   ]
  },
  {
   "cell_type": "markdown",
   "metadata": {},
   "source": [
    "A `complex` object also has the method `conjugate` which returns a new `complex` object, namely its conjugate:"
   ]
  },
  {
   "cell_type": "code",
   "execution_count": 5,
   "metadata": {
    "collapsed": true
   },
   "outputs": [],
   "source": [
    "w = z.conjugate()"
   ]
  },
  {
   "cell_type": "code",
   "execution_count": 6,
   "metadata": {},
   "outputs": [
    {
     "name": "stdout",
     "output_type": "stream",
     "text": [
      "(1-2j)\n"
     ]
    }
   ],
   "source": [
    "print(w)"
   ]
  },
  {
   "cell_type": "code",
   "execution_count": 7,
   "metadata": {},
   "outputs": [
    {
     "name": "stdout",
     "output_type": "stream",
     "text": [
      "(1+2j)\n"
     ]
    }
   ],
   "source": [
    "print(z)"
   ]
  },
  {
   "cell_type": "markdown",
   "metadata": {},
   "source": [
    "<a id='rectangle-class'></a>\n",
    "### Example: Create our own `Rectangle` class\n",
    "\n",
    "The best way to understand objects and classes is to simply to build one from scratch!\n",
    "\n",
    "Let's create a Python class which represents rectangles. A rectangle has numeric values for width and height, and we can compute its area, perimeter and diagonal given its dimensions. We can also scale the square by multiplying its dimensions by a constant. Let's put all this together!"
   ]
  },
  {
   "cell_type": "code",
   "execution_count": 8,
   "metadata": {
    "collapsed": true
   },
   "outputs": [],
   "source": [
    "class Rectangle:\n",
    "    \n",
    "    def __init__(self,w,h):\n",
    "        self.width = w\n",
    "        self.height = h\n",
    "        print(\"Created a new Rectangle!\")\n",
    "    \n",
    "    def __str__(self):\n",
    "        return \"[{} by {}]\".format(self.width,self.height)\n",
    "    \n",
    "    def area(self):\n",
    "        return self.width * self.height\n",
    "    \n",
    "    def perimeter(self):\n",
    "        return 2 * (self.width + self.height)\n",
    "    \n",
    "    def diagonal(self):\n",
    "        return (self.width**2 + self.height**2)**0.5\n",
    "    \n",
    "    def scale(self,factor):\n",
    "        self.width *= factor\n",
    "        self.height *= factor"
   ]
  },
  {
   "cell_type": "markdown",
   "metadata": {},
   "source": [
    "Here are a few things to notice:\n",
    "\n",
    "1. The method `__init__` is called everytime we create a new `Rectangle` object.\n",
    "2. Each class method takes `self` as the first parameter. This is a reference to the object on which the method is called.\n",
    "3. The `__str__` method is called when we print the object.\n",
    "4. The methods `area`, `perimeter` and `diagonal` all return a value whereas the `scale` method modifies the object on which it is called (and returns `None`).\n",
    "\n",
    "Now we an create new instances of the `Rectangle` class. Each instance has its attributes `width` and `height`, and access to the methods `area`, `perimeter`, `diagonal` and `scale`."
   ]
  },
  {
   "cell_type": "code",
   "execution_count": 9,
   "metadata": {},
   "outputs": [
    {
     "name": "stdout",
     "output_type": "stream",
     "text": [
      "Created a new Rectangle!\n"
     ]
    }
   ],
   "source": [
    "r = Rectangle(0.2,0.3)"
   ]
  },
  {
   "cell_type": "code",
   "execution_count": 10,
   "metadata": {},
   "outputs": [
    {
     "name": "stdout",
     "output_type": "stream",
     "text": [
      "[0.2 by 0.3]\n"
     ]
    }
   ],
   "source": [
    "print(r)"
   ]
  },
  {
   "cell_type": "code",
   "execution_count": 11,
   "metadata": {},
   "outputs": [
    {
     "data": {
      "text/plain": [
       "__main__.Rectangle"
      ]
     },
     "execution_count": 11,
     "metadata": {},
     "output_type": "execute_result"
    }
   ],
   "source": [
    "type(r)"
   ]
  },
  {
   "cell_type": "code",
   "execution_count": 12,
   "metadata": {},
   "outputs": [
    {
     "name": "stdout",
     "output_type": "stream",
     "text": [
      "Created a new Rectangle!\n"
     ]
    }
   ],
   "source": [
    "s = Rectangle(3,5)"
   ]
  },
  {
   "cell_type": "code",
   "execution_count": 13,
   "metadata": {},
   "outputs": [
    {
     "data": {
      "text/plain": [
       "15"
      ]
     },
     "execution_count": 13,
     "metadata": {},
     "output_type": "execute_result"
    }
   ],
   "source": [
    "s.area()"
   ]
  },
  {
   "cell_type": "code",
   "execution_count": 14,
   "metadata": {},
   "outputs": [
    {
     "data": {
      "text/plain": [
       "16"
      ]
     },
     "execution_count": 14,
     "metadata": {},
     "output_type": "execute_result"
    }
   ],
   "source": [
    "s.perimeter()"
   ]
  },
  {
   "cell_type": "code",
   "execution_count": 15,
   "metadata": {},
   "outputs": [
    {
     "data": {
      "text/plain": [
       "5.830951894845301"
      ]
     },
     "execution_count": 15,
     "metadata": {},
     "output_type": "execute_result"
    }
   ],
   "source": [
    "s.diagonal()"
   ]
  },
  {
   "cell_type": "code",
   "execution_count": 16,
   "metadata": {
    "collapsed": true
   },
   "outputs": [],
   "source": [
    "s.scale(5)"
   ]
  },
  {
   "cell_type": "code",
   "execution_count": 17,
   "metadata": {},
   "outputs": [
    {
     "data": {
      "text/plain": [
       "15"
      ]
     },
     "execution_count": 17,
     "metadata": {},
     "output_type": "execute_result"
    }
   ],
   "source": [
    "s.width"
   ]
  },
  {
   "cell_type": "code",
   "execution_count": 18,
   "metadata": {},
   "outputs": [
    {
     "name": "stdout",
     "output_type": "stream",
     "text": [
      "[15 by 25]\n"
     ]
    }
   ],
   "source": [
    "print(s)"
   ]
  }
 ],
 "metadata": {
  "kernelspec": {
   "display_name": "Python 3",
   "language": "python",
   "name": "python3"
  },
  "language_info": {
   "codemirror_mode": {
    "name": "ipython",
    "version": 3
   },
   "file_extension": ".py",
   "mimetype": "text/x-python",
   "name": "python",
   "nbconvert_exporter": "python",
   "pygments_lexer": "ipython3",
   "version": "3.5.3"
  }
 },
 "nbformat": 4,
 "nbformat_minor": 2
}
