{
 "cells": [
  {
   "cell_type": "markdown",
   "metadata": {},
   "source": [
    "# BCDATA Data Science Workshop\n",
    "\n",
    "### Introduction to Bash, Git, Jupyter and Python\n",
    "\n",
    "1. [Bash](#bash)\n",
    "  * [File system and paths](#file-system-paths)\n",
    "  * [Bash commands](#bash-commands)\n",
    "  * [Standard input and output, pipes and redirections](#standard-input-output)\n",
    "  * [Bash scripts](#bash-scripts)\n",
    "  * [More commands and wildcards](#more-commands)\n",
    "  * [Exercises](#bash-exercises)\n",
    "2. [Git](#git)\n",
    "  * [Configuring Git on our machines](#git-config)\n",
    "  * [Create, clone, push and pull a repository on GitHub](#github)\n",
    "  * [Basic Git commands](#git-commands)\n",
    "3. [Jupyter](#jupyter)\n",
    "  * [Cell, modes and keyboard shortcuts](#cells-modes-shortcuts)\n",
    "  * [Markdown: text, links, lists, images and tables](#markdown)\n",
    "  * [LaTeX mathematical notation](#latex)\n",
    "  * [Exercises](#jupyter-exercises)\n",
    "4. [Python](#python)\n",
    "  * [Datatypes](#datatypes)\n",
    "  * [Builtin functions](#builtin-functions)\n",
    "  * [List comprehensions](#list-comprehensions)\n",
    "  * [Logic, loops and functions](#logic-loops-functions)\n",
    "  * [Packages and modules](#packages-modules)\n",
    "  * [Exercises](#python-exercises)\n",
    "\n",
    "---\n",
    "\n",
    "Patrick Walls\n",
    "\n",
    "pwalls@math.ubc.ca\n",
    "\n",
    "---"
   ]
  },
  {
   "cell_type": "markdown",
   "metadata": {},
   "source": [
    "<a id='bash'></a>\n",
    "## Bash shell\n",
    "\n",
    "The [Bash shell](https://www.gnu.org/software/bash/) is the user interface for the GNU/Linux operating system. Bash is a command line interface (CLI) where a user types commands which are then executed by the computer. We use Bash commands and its programming language to:\n",
    "\n",
    "* navigate the file system\n",
    "* create, delete, edit, search, and view files and directories\n",
    "* manage users, permissions and networks\n",
    "* ... and *much* more\n",
    "\n",
    "The symbol `$` denotes the Bash shell prompt in the examples below. See the following resources for more information about Linux and Bash:\n",
    "* [GNU Bash](https://www.gnu.org/software/bash/) official webpage\n",
    "* [Introduction to Linux - A Hands on Guide](http://www.tldp.org/LDP/intro-linux/html/index.html) by Machtelt Garrels"
   ]
  },
  {
   "cell_type": "markdown",
   "metadata": {},
   "source": [
    "<a id='file-system-paths'></a>\n",
    "### File system and paths\n",
    "\n",
    "The [file system](http://www.tldp.org/LDP/intro-linux/html/sect_03_01.html#sect_03_01_03) in a GNU/Linux machine is a tree with the `root` directory (denoted by a slash `/`) at the top. A **path** is a unique location of a file or directory in the file system. An **absolute path** is a location traced from the root directory and begins with the slash `/`. A **relative path** is traced from the working directory in the Bash shell and does *not* begin with the slash `/`.\n",
    "\n",
    "For example, suppose the top of my file system is:\n",
    "\n",
    "* /\n",
    "    * bin\n",
    "        * git\n",
    "        * python\n",
    "        * vim\n",
    "    * boot\n",
    "    * dev\n",
    "    * etc\n",
    "    * home\n",
    "        * patrick\n",
    "            * bcdata-workshop\n",
    "                * day-1\n",
    "            * math210\n",
    "    * lib\n",
    "\n",
    "The abolute path of the directory `day-1` is `/home/patrick/bcdata-workshop/day-1`.\n",
    "\n",
    "If the working directory of the Bash shell is `/home/patrick`, then the relative path of `day-1` is `bcdata-workshop/day-1`.\n",
    "\n",
    "The slashes *within* a path (ie. excluding the root) are called separators (since they separate the directory names in the path).\n",
    "\n",
    "Common operations involve the working (current) directory, its parent directory, or the home directory and so we have convenient shortcuts to refer to these directories:\n",
    "\n",
    "| Shortcut | Directory |\n",
    "| :---: | :--- |\n",
    "| . | working (current) directory |\n",
    "| .. | parent directory |\n",
    "| ~ | home directory |\n",
    "| - | previous directory |\n",
    "\n",
    "For example, if the working directory of the Bash shell is `/home/patrick/bcdata-workshop`, then the path of `math210` can be written as `../math210` and also `~/bcdata-workshop`."
   ]
  },
  {
   "cell_type": "markdown",
   "metadata": {},
   "source": [
    "<a id='bash-commands'></a>\n",
    "### Bash commands\n",
    "\n",
    "There are [*many* powerful features](https://www.gnu.org/software/bash/manual/) of the Bash shell but, at the moment, we will only consider the most common Bash commands. For more information, see the [Bash manual](https://www.gnu.org/software/bash/manual) or [A-Z Index of Bash commands](https://ss64.com/bash/).\n",
    "\n",
    "| Command | Description |\n",
    "| :---: | :--- |\n",
    "| `pwd` | print working directory |\n",
    "| `ls` | list contents of directory |\n",
    "| `cd` | change working directory |\n",
    "| `mkdir` | create new directory |\n",
    "| `mv` | move file to directory |\n",
    "| `cp` | copy file to directory |\n",
    "| `rm` | delete file (immediately and permanently!) |\n",
    "| `cat` | show contents of file |\n",
    "| `less` | scroll through the contents of file (press `q` to exit) |\n",
    "| `head` | show top 10 lines in file |\n",
    "| `tail` | show last 10 lines in file |\n",
    "| `wc` | show number of lines, words, and bytes in a file |\n",
    "| `sort` | sort lines in a file |\n",
    "| `curl` | retrieve and output the contents of the file located at the specified URL |\n",
    "| `echo` | display messages to screen |\n",
    "\n",
    "Many commands can be modified using options (or flags). For example, `head` displays the top 10 lines of a file but we can use the option `-20` (or `-n` for any integer n) to display the top 20 lines:\n",
    "\n",
    "```\n",
    "$ head -20 file.txt\n",
    "```\n",
    "\n",
    "Use the option `-l` with `wc` to display the number of lines only in a file:\n",
    "\n",
    "```\n",
    "$ wc -l file.txt\n",
    "```\n",
    "\n",
    "Use the option `-r` with `rm` to remove the contents of a directory called `my_directory`:\n",
    "\n",
    "```\n",
    "$ rm -r my_directory\n",
    "```\n",
    "\n",
    "Use the option `--help` to display more information about a command. For example, to see more about information about `ls`, type the command:\n",
    "\n",
    "```\n",
    "$ ls --help\n",
    "```"
   ]
  },
  {
   "cell_type": "markdown",
   "metadata": {},
   "source": [
    "<a id='standard-input-output'></a>\n",
    "### Standard input and output, pipes and redirections\n",
    "\n",
    "The input to a Bash command is called standard input. The output of a Bash command is called standard output. Read more about [standard input and output](http://www.tldp.org/LDP/intro-linux/html/sect_05_01.html).\n",
    "\n",
    "Use the pipe operator `|` to use the standard output of a command as the standard input into another command.\n",
    "\n",
    "For example, to count the number of files and directories contained in the directory `/bin` (which contains program files), we can pipe the output of `ls` into the command `wc -l`:\n",
    "\n",
    "```\n",
    "$ ls /bin | wc -l\n",
    "```\n",
    "\n",
    "Use the `>` operator to write the standard output of a command to a file.\n",
    "\n",
    "For example, to fetch a webpage from the internet and write the contents to a file, we can redirect the output of `curl` to a file called `math.html`:\n",
    "\n",
    "```\n",
    "$ curl http://www.math.ubc.ca > math.html\n",
    "```\n",
    "\n",
    "Use the `>>` operator to append the standard output of a command to a file.\n",
    "\n",
    "For example, we can write lines to a file using `echo`:\n",
    "\n",
    "```\n",
    "$ echo \"This is the first line\" > file.txt\n",
    "$ echo \"Now we append another line\" >> file.txt\n",
    "```"
   ]
  },
  {
   "cell_type": "markdown",
   "metadata": {},
   "source": [
    "<a id='bash-scripts'></a>\n",
    "### Bash scripts\n",
    "\n",
    "A Bash script is simply a text file (with extension `.sh`) containing Bash commands. We run a Bash script in the terminal using the bash command:\n",
    "\n",
    "```\n",
    "$ bash my_script.sh\n",
    "```\n",
    "\n",
    "We can also pass (positional) arguments into the script and refer to them in the script as `$1`, `$2`, etc. The variable `$0` in the script refers to the file name of the script.\n",
    "\n",
    "For example, create `my_script.sh`:\n",
    "\n",
    "```\n",
    "# This line is a comment\n",
    "# my_script.sh\n",
    "echo ...Running $0...\n",
    "echo Creating directory $1\n",
    "mkdir $1\n",
    "echo Creating file $1/$2\n",
    "touch $1/$2\n",
    "echo Done!\n",
    "```\n",
    "\n",
    "Run the script:\n",
    "```\n",
    "$ bash my_script.sh test file.txt\n",
    "```\n",
    "\n",
    "The output is:\n",
    "```\n",
    "...Running my_script.sh...\n",
    "Creating directory test\n",
    "Creating file test/file.txt\n",
    "Done!\n",
    "```\n",
    "\n",
    "and the result is a new directory named `test` containing an empty file `file.txt`."
   ]
  },
  {
   "cell_type": "markdown",
   "metadata": {},
   "source": [
    "<a id='more-commands'></a>\n",
    "### More commands and wildcards\n",
    "\n",
    "There are *many* more Bash commands. See the [A-Z Index of Bash commands](https://ss64.com/bash/). A few very helpful commands are:\n",
    "\n",
    "| Command | Description |\n",
    "| :---: | :--- |\n",
    "| `grep` | search a file for specific text |\n",
    "| `find` | search for files |\n",
    "| `cut` | divide file into parts (columns) |\n",
    "| `rev` | reverse lines of a file |\n",
    "\n",
    "Finally, we can apply Bash commands to more than one file at a time using the wildcard `*`. For example, we can simultaneously remove files named `data-1.txt`, `data-2.txt`, `data-3.txt`, `data-4.txt`,`data-5.txt` and `data-6.txt`:\n",
    "\n",
    "```\n",
    "$ rm data-*.txt\n",
    "```\n",
    "\n",
    "For more information, see [http://www.linfo.org/wildcard.html](http://www.linfo.org/wildcard.html)."
   ]
  },
  {
   "cell_type": "markdown",
   "metadata": {},
   "source": [
    "<a id='bash-exercises'></a>\n",
    "### Exercises\n",
    "\n",
    "#### Exercise: Complete works of Shakespeare\n",
    "\n",
    "1. Create a new directory calles `shakespeare` and navigate into it using `cd`.\n",
    "2. Use `curl` and a redirection `>` to save the collected works of Shakespeare as a text file called `complete_works.txt` from the URL\n",
    "```\n",
    "https://www.math.ubc.ca/~pwalls/data/shakespeare.txt\n",
    "```\n",
    "3. Use `grep` and a redirection `>` to save all lines containing the word `love` as a text file called `love.txt`. How many lines are there? What is the first line? What is the last line? (Use the option `grep -i` to ignore uppercase/lowercase.)\n",
    "4. Use `grep` and a redirection `>` to save all lines containing the word `death` as a text file called `death.txt`. How many lines are there? What is the first line? What is the last line?(Use the option `grep -i` to ignore uppercase/lowercase.)\n",
    "5. Use `grep` and a redirection `>` to save all lines containing the word `war` as a text file called `war.txt`. How many lines are there? What is the first line? What is the last line?(Use the option `grep -i` to ignore uppercase/lowercase.)"
   ]
  },
  {
   "cell_type": "markdown",
   "metadata": {},
   "source": [
    "#### Exercise: Headline news\n",
    "\n",
    "Write a Bash script called `headlines.sh` which takes two parameters `category` and `filename` and fetches the headlines from that category from the CBC RSS feeds: [http://www.cbc.ca/rss/](http://www.cbc.ca/rss/). The script should write the result to a file named `filename.txt`\n",
    "\n",
    "For example:\n",
    "\n",
    "```\n",
    "bash headlines.sh sports-nba new_sports_headlines\n",
    "```\n",
    "\n",
    "writes the file `new_sports_headlines.txt`:\n",
    "\n",
    "```\n",
    "Canada's Andrew Wiggins in line for $148M payday from T-Wolves\n",
    "Steph Curry rebounds from strange start in pro golf debut\n",
    "Canadian basketball star R.J. Barrett to jump a year ahead to enter college next year\n",
    "3,459 kids help Kevin Durant land in the Guinness Book of World Records\n",
    "Canada squeaks into semis at FIBA U-19 Women's World Cup\n",
    "Cavaliers owner tries to diffuse Kyrie Irving trade demand\n",
    "Lakers re-sign Canadian guard Tyler Ennis\n",
    "Warriors' Draymond Green sued over alleged assault\n",
    "Aislinn Konig catches fire as Canada upends Latvia at FIBA U19 Women's World Cup\n",
    "Former MVP Derrick Rose agrees to deal with Cavs\n",
    "Kyrie Irving wants out of Cleveland, asks for trade\n",
    "John Wall, Wizards agree to $170M, 4-year extension\n",
    "Pau Gasol agrees to 3-year deal with Spurs\n",
    "Grizzlies sign Canadian forward Dillon Brooks\n",
    "Manu Ginobili returns to Spurs for 16th season\n",
    "Raptors happy to have 'sniper' Miles in the fold\n",
    "NBA, Nike shelving home and road jersey designations\n",
    "Masai Ujiri taking Giants of Africa camp to 6 countries\n",
    "Raptors' restructuring continues; team makes Cory Joseph trade official\n",
    "Raptors' restructuring officially begins with trade of Carroll\n",
    "```\n",
    "\n",
    "Hints:\n",
    "1. Fetch and save the raw XML file using `curl` and `>`.\n",
    "2. The headlines contain the tags `<title>`. Use `grep` to find them.\n",
    "3. Use `cut` and `rev` and pipes `|` to trim the beginning and end of each line.\n",
    "4. Save the result and print it to the screen."
   ]
  },
  {
   "cell_type": "markdown",
   "metadata": {},
   "source": [
    "---\n",
    "\n",
    "<a id='git'></a>\n",
    "## 3. Git/GitHub\n",
    "\n",
    "[Git](https://git-scm.com/) is an open source, version control system used to manage and share software projects and [GitHub](https://github.com) is a website which hosts Git repositories.\n",
    "\n",
    "A Git repository is simply a directory which Git is tracking and recording changes – it is very powerful! The basic idea is that your project contains files and directories which change as the project progresses. Git commits are snapshots of your project and a Git repository forms a tree of commits as you create new commits.\n",
    "\n",
    "The best way to get a sense of what Git does is look at [Visualizing Git](https://onlywei.github.io/explain-git-with-d3/). Here are some more helpful resources:\n",
    "\n",
    "* [GitHub Help](https://help.github.com/)\n",
    "* [Git documentation](https://git-scm.com/)\n",
    "* [GitHub Training on YouTube](https://www.youtube.com/watch?v=8oRjP8yj2Wo&list=PLg7s6cbtAD165JTRsXh8ofwRw0PqUnkVH)\n"
   ]
  },
  {
   "cell_type": "markdown",
   "metadata": {},
   "source": [
    "<a id='git-config'></a>\n",
    "### Configuring Git on our machines\n",
    "\n",
    "Before getting started, we need to configure our Git seetings. In the terminal, enter the commands:\n",
    "\n",
    "```\n",
    "$ git config --global user.name \"YOUR NAME\"\n",
    "$ git config --global user.email \"YOUR EMAIL ADDRESS\"\n",
    "```\n",
    "\n",
    "The email address you enter should match the one you used to setup your GitHub account (this is how GitHub identifies your GitHub account). Check you settings:\n",
    "\n",
    "```\n",
    "$ git config --list\n",
    "```"
   ]
  },
  {
   "cell_type": "markdown",
   "metadata": {},
   "source": [
    "<a id='github'></a>\n",
    "### Create, clone, push and pull a repository on GitHub\n",
    "\n",
    "#### Create a new repository\n",
    "\n",
    "Create a new repository on GitHub for the exercises to be completed during the workshop:\n",
    "\n",
    "* Open a new tab in your browser and sign in to your [GitHub](https://github.com/) account\n",
    "* Click `+` in the top right corner of your browser window and click `New repository`\n",
    "* You are navigated to a new page:\n",
    "    * Enter the repository name `bcdata-exercises`\n",
    "    * Enter a description of the repository (such as `\"A collection of exercises completed during the BCDATA Workshop\"`)\n",
    "    * Choose to make the repository `Public`\n",
    "    * Choose to initialize the repository with a `README.md` file\n",
    "    * Click `Create repository`"
   ]
  },
  {
   "cell_type": "markdown",
   "metadata": {},
   "source": [
    "#### git clone\n",
    "\n",
    "The repository you just created exists only on GitHub. We want to clone that repo to our JupyterHub account (on [bcdata.syzygy.ca](https://bcdata.syzygy.ca/)) so that we can work on the exercises on bcdata.syzygy.ca. Simply use the command:\n",
    "\n",
    "```\n",
    "git clone https://github.com/USER_NAME/bcdata-exercises.git\n",
    "```\n",
    "\n",
    "where `USER_NAME` is your GitHub user name."
   ]
  },
  {
   "cell_type": "markdown",
   "metadata": {},
   "source": [
    "#### git status, git add, git commit and git push\n",
    "\n",
    "Navigate to the folder `bcdata-exercises`, open the file `README.md` and make a change to the README.md file. For example, create headings `Bash`, `Git`, `Jupyter` and `Python` and create a list of the Bash exercises from the previous section.\n",
    "\n",
    "Open a new terminal and navigate to `bcdata-exercises` and check the status:\n",
    "\n",
    "```\n",
    "git status\n",
    "```\n",
    "\n",
    "The output tells us that we have an untracked modification to the file `README.md`.\n",
    "\n",
    "1. Add the change to the staging area by entering the command:\n",
    "```\n",
    "git add README.md\n",
    "```\n",
    "2. Commit the change to the local repo with a descriptive message by entering the command:\n",
    "```\n",
    "git commit -m \"Added a list of topics to README.md\"\n",
    "```\n",
    "3. Push the change to GitHub by entering the command:\n",
    "```\n",
    "git push origin master\n",
    "```"
   ]
  },
  {
   "cell_type": "markdown",
   "metadata": {},
   "source": [
    "#### git pull\n",
    "\n",
    "Now let's go the other way and make a change on GitHub and pull the change to our machines on bcdata.syzygy.ca.\n",
    "\n",
    "1. Open a browser tab and navigate to your GitHub repo `bcdata-exercises` and click on `README.md`.\n",
    "2. Click the pencil icon in the toolbar above the text in the `README.md` file.\n",
    "3. Add headings `NumPy and matplotlib`, `pandas` and `scikit-learn`. We will be working with these Python packages later in the week.\n",
    "4. Write a commit message describing the change and click `Commit changes`.\n",
    "5. With `bcdata-exercises` as the working directory in a terminal on `bcdata.syzygy.ca`, enter the command\n",
    "```\n",
    "git pull\n",
    "```\n",
    "and the changes from GitHub will update the `README.md` file."
   ]
  },
  {
   "cell_type": "markdown",
   "metadata": {},
   "source": [
    "<a id='git-commands'></a>\n",
    "### Basic Git commands\n",
    "\n",
    "We will be using Git and GitHub throughout the week. Here is a summary of the basic commands:\n",
    "\n",
    "| Command | Description |\n",
    "| :--- | :--- |\n",
    "| `git init` | initialize current directory as a git repository |\n",
    "| `git status` | display the state of the current directory and the staging area |\n",
    "| `git add` | put files in the staging area |\n",
    "| `git commit` | save staged content as a new commit in the repository |\n",
    "| `git log` | display the commit history |\n",
    "| `git clone` | copy a git repository |\n",
    "| `git pull` | copy changes from remote repository |\n",
    "| `git push` | copy changes to remote repository |\n",
    "| `git branch` | create, rename or delete a branch |\n",
    "| `git checkout` | switch to another branch |\n",
    "| `git merge` | join two branches together |\n",
    "\n",
    "See the [Git documentation](https://git-scm.com/) for more information."
   ]
  },
  {
   "cell_type": "markdown",
   "metadata": {},
   "source": [
    "---\n",
    "\n",
    "<a id='jupyter'></a>\n",
    "## Jupyter Notebooks\n",
    "\n",
    "We present the basic features of Jupyter notebooks. Please see the [Jupyter documentation](http://jupyter.org/)."
   ]
  },
  {
   "cell_type": "markdown",
   "metadata": {},
   "source": [
    "<a id=\"cells-modes-shortcuts\"></a>\n",
    "### Cells, modes and keyboard shortcuts\n",
    "\n",
    "#### Code cells and markdown cells\n",
    "\n",
    "There are two main types of cells: code and markdown. All text, headings, lists, LaTeX, images and other HTML in the notebook are written in markdown cells.\n",
    "\n",
    "Code is written in code and, since this notebook is a Python 3 notebook, the Python code we write in code cells is executed by the Python kernel and output is displayed below the code cell:"
   ]
  },
  {
   "cell_type": "code",
   "execution_count": null,
   "metadata": {
    "collapsed": true
   },
   "outputs": [],
   "source": [
    "0.1 + 0.2"
   ]
  },
  {
   "cell_type": "markdown",
   "metadata": {},
   "source": [
    "#### Edit mode and command mode\n",
    "\n",
    "Command Mode is for notebook editing commands: cut cell, paste cell, insert cell above, etc. Command mode is indicated by a *blue* rectangle containing the active cell.\n",
    "\n",
    "Edit Mode is for editing code/text and is indicated by a *green* rectangle. "
   ]
  },
  {
   "cell_type": "markdown",
   "metadata": {},
   "source": [
    "#### Keyboard shortcuts\n",
    "\n",
    "The tool bar has buttons for the most common actions however you can increase the speed of your workflow by memorizing the following keyboard shortcuts in Command Mode:\n",
    "\n",
    "| Command Mode Action | Shortcut |\n",
    "| :---: | :---: |\n",
    "| Insert empty cell above | `a` |\n",
    "| Insert empty cell below | `b` |\n",
    "| Copy cell | `c` |\n",
    "| Cut cell | `x` |\n",
    "| Paste cell below | `v` |\n",
    "| To code | `y` |\n",
    "| To markdown | `m` |\n",
    "| Save and checkpoint | `s` |\n",
    "| Execute cell | `shift+return` |\n",
    "| Enter edit mode | `return` |\n",
    "\n",
    "The usual keyboard shortcuts for text editing (ie. on a Mac: `command+x` to cut text, `command+z` to undo, etc.) work in Edit Mode as well the following most common actions:\n",
    "\n",
    "| Edit Mode Action | Shortcut |\n",
    "| :---: | :---: |\n",
    "| Execute cell | `shift+return` |\n",
    "| Enter command mode | `esc` |"
   ]
  },
  {
   "cell_type": "markdown",
   "metadata": {
    "collapsed": true
   },
   "source": [
    "<a id=\"markdown\"></a>\n",
    "### Markdown\n",
    "\n",
    "[Markdown](https://daringfireball.net/projects/markdown/syntax) is a plain text formatting syntax which the Jupyter notebook will convert and render as HTML.\n",
    "\n",
    "#### Text\n",
    "\n",
    "The following table summarizes text formatting and headings:\n",
    "\n",
    "| Output | Syntax |\n",
    "| :---: | :---: |\n",
    "| *emphasis* | `*emphasis*` |\n",
    "| **strong** | `**strong**` |\n",
    "| `code` | ``  `code` `` |\n",
    "| <h1>Heading 1</h1> | `# Heading 1` |\n",
    "| <h2>Heading 2</h2> | `## Heading 2` |\n",
    "| <h3>Heading 3</h3> | `### Heading 3` |\n",
    "\n",
    "#### Links\n",
    "\n",
    "Create a [link](http://www.math.ubc.ca) with the syntax `[link](http://www.math.ubc.ca)`.\n",
    "\n",
    "#### Lists\n",
    "\n",
    "Create a list using an asterisk * for each item. For example:\n",
    "\n",
    "```\n",
    "* Number theory\n",
    "* Algebra\n",
    "* Partial differential equations\n",
    "* Probability\n",
    "```\n",
    "\n",
    "renders as:\n",
    "\n",
    "* Number theory\n",
    "* Algebra\n",
    "* Partial differential equations\n",
    "* Probability\n",
    "\n",
    "#### Images\n",
    "\n",
    "Include an image using the syntax `![description](url)`. For example:\n",
    "\n",
    "```\n",
    "![Jupyter logo](http://jupyter.org/assets/nav_logo.svg)\n",
    "```\n",
    "\n",
    "renders as:\n",
    "\n",
    "![Jupyter logo](http://jupyter.org/assets/nav_logo.svg)\n",
    "\n",
    "#### Tables\n",
    "\n",
    "Create a table by separating entries by pipe characters |. For example:\n",
    "\n",
    "```\n",
    "| Operator | Description  |\n",
    "| :---: | :---: |\n",
    "| `+` | addition |\n",
    "| `-` | subtraction |\n",
    "| `*` | multiplication |\n",
    "| `/` | division |\n",
    "| `%` | remainder (or modulo) |\n",
    "| `//` | floor division |\n",
    "| `**` | power |\n",
    "```\n",
    "\n",
    "renders as:\n",
    "\n",
    "\n",
    "| Operator | Description  |\n",
    "| :---: | :---: |\n",
    "| `+` | addition |\n",
    "| `-` | subtraction |\n",
    "| `*` | multiplication |\n",
    "| `/` | division |\n",
    "| `%` | remainder (or modulo) |\n",
    "| `//` | floor division |\n",
    "| `**` | power |\n",
    "\n",
    "The second line specifies the alignment of the columns. See more about [GitHub flavoured markdown](https://help.github.com/articles/organizing-information-with-tables/)."
   ]
  },
  {
   "cell_type": "markdown",
   "metadata": {},
   "source": [
    "<a id='latex'></a>\n",
    "### LaTeX mathematical notation\n",
    "\n",
    "LaTeX code (in math mode) written in a markdown cell is automatically rendered by [MathJax](https://www.mathjax.org/). For example:\n",
    "\n",
    "```\n",
    "$$\n",
    "f'(a) = \\lim_{x \\to a} \\frac{f(x) - f(a)}{x - a}\n",
    "$$\n",
    "```\n",
    "\n",
    "renders as:\n",
    "\n",
    "$$\n",
    "f'(a) = \\lim_{x \\to a} \\frac{f(x) - f(a)}{x - a}\n",
    "$$\n"
   ]
  },
  {
   "cell_type": "markdown",
   "metadata": {},
   "source": [
    "<a id='jupyter-exercises'></a>\n",
    "### Exercise\n",
    "\n",
    "#### Describe your research\n",
    "\n",
    "Write a few short paragraphs describing your area of research. Include text, lists, links, LaTeX, images, tables, etc."
   ]
  },
  {
   "cell_type": "markdown",
   "metadata": {},
   "source": [
    "---\n",
    "\n",
    "<a id='python'></a>\n",
    "## Python\n",
    "\n",
    "We present basics features of the Python programming language. Please see the [Python 3 documentation](https://docs.python.org/3/)."
   ]
  },
  {
   "cell_type": "markdown",
   "metadata": {},
   "source": [
    "<a id='datatypes'></a>\n",
    "### Datatypes"
   ]
  },
  {
   "cell_type": "markdown",
   "metadata": {},
   "source": [
    "#### Numbers: integers and floats\n",
    "\n",
    "The most commonly used [numeric types](https://docs.python.org/3/library/stdtypes.html#numeric-types-int-float-complex) are integers and floats and the syntax for arithmetic operations are:\n",
    "\n",
    "| Operator | Description  |\n",
    "| :---: | :---: |\n",
    "| `+` | addition |\n",
    "| `-` | subtraction |\n",
    "| `*` | multiplication |\n",
    "| `/` | division |\n",
    "| `%` | remainder (or modulo) |\n",
    "| `//` | floor division |\n",
    "| `**` | power |\n",
    "\n",
    "Notice that division always returns a float:"
   ]
  },
  {
   "cell_type": "code",
   "execution_count": null,
   "metadata": {
    "collapsed": true
   },
   "outputs": [],
   "source": [
    "4/2"
   ]
  },
  {
   "cell_type": "markdown",
   "metadata": {},
   "source": [
    "We can compute fractional powers using floats:"
   ]
  },
  {
   "cell_type": "code",
   "execution_count": null,
   "metadata": {
    "collapsed": true
   },
   "outputs": [],
   "source": [
    "2**0.5"
   ]
  },
  {
   "cell_type": "markdown",
   "metadata": {},
   "source": [
    "Use parentheses to group combinations of arithmetic operations:"
   ]
  },
  {
   "cell_type": "code",
   "execution_count": null,
   "metadata": {
    "collapsed": true
   },
   "outputs": [],
   "source": [
    "5 * (4 + 3) - 2"
   ]
  },
  {
   "cell_type": "markdown",
   "metadata": {},
   "source": [
    "#### Sequences: list, tuple, range\n",
    "\n",
    "The most commonly used [sequence types](https://docs.python.org/3/library/stdtypes.html#sequence-types-list-tuple-range) are `list`, `tuple` and `range`. Lists are mutable whereas tuples and ranges are immutable. More importantly, range objects always take the same amount of (small) memory and calculate items only when needed. Looking ahead, this is why range objects are used in `for` loops.\n",
    "\n"
   ]
  },
  {
   "cell_type": "markdown",
   "metadata": {},
   "source": [
    "Create a list using brackets `[a,b,...]` with items separated by commas (and use the built-in print function to display it):"
   ]
  },
  {
   "cell_type": "code",
   "execution_count": null,
   "metadata": {
    "collapsed": true
   },
   "outputs": [],
   "source": [
    "my_list = [1,4,9,16,25]\n",
    "print(my_list)"
   ]
  },
  {
   "cell_type": "markdown",
   "metadata": {},
   "source": [
    "Lists are mutable and we can modify a list using [list methods](https://docs.python.org/3/tutorial/datastructures.html#more-on-lists) such as `append`: "
   ]
  },
  {
   "cell_type": "code",
   "execution_count": null,
   "metadata": {
    "collapsed": true
   },
   "outputs": [],
   "source": [
    "my_list.append(36)\n",
    "print(my_list)"
   ]
  },
  {
   "cell_type": "markdown",
   "metadata": {},
   "source": [
    "Create a tuple with parentheses `(a,b,...)`:"
   ]
  },
  {
   "cell_type": "code",
   "execution_count": null,
   "metadata": {
    "collapsed": true
   },
   "outputs": [],
   "source": [
    "my_tuple = (3.1,3.14,3.141,3.1415)\n",
    "print(my_tuple)"
   ]
  },
  {
   "cell_type": "markdown",
   "metadata": {},
   "source": [
    "Create a range with the built-in function `range(a,b,step)`. The parameters are integers and the fucntion creates a object which representes the sequence of integers from `a` to `b` (exclusively) incremented by `step`. "
   ]
  },
  {
   "cell_type": "code",
   "execution_count": null,
   "metadata": {
    "collapsed": true
   },
   "outputs": [],
   "source": [
    "my_range = range(0,10,2)\n",
    "print(my_range)"
   ]
  },
  {
   "cell_type": "markdown",
   "metadata": {},
   "source": [
    "Recall, a range object only calculates its items as needed. Use the built-in function `list` to create the corresponding list:"
   ]
  },
  {
   "cell_type": "code",
   "execution_count": null,
   "metadata": {
    "collapsed": true
   },
   "outputs": [],
   "source": [
    "list(my_range)"
   ]
  },
  {
   "cell_type": "markdown",
   "metadata": {},
   "source": [
    "#### Strings\n",
    "\n",
    "[Strings](https://docs.python.org/3/library/stdtypes.html#text-sequence-type-str) are defined using (single or double) quotes:"
   ]
  },
  {
   "cell_type": "code",
   "execution_count": null,
   "metadata": {
    "collapsed": true
   },
   "outputs": [],
   "source": [
    "mathematician = 'Ramanujan'\n",
    "print(mathematician)"
   ]
  },
  {
   "cell_type": "markdown",
   "metadata": {},
   "source": [
    "#### Boolean\n",
    "\n",
    "[Boolean](https://docs.python.org/3/library/stdtypes.html#truth-value-testing) values are `True` and `False` and the comparison operators are:\n",
    "\n",
    "| Comparison Operator | Description  |\n",
    "| :---: | :---: |\n",
    "| `<` | strictly less than |\n",
    "| `<=` | less than or equal |\n",
    "| `>` | strictly greater than |\n",
    "| `>=` | greater than or equal |\n",
    "| `==` | equal |\n",
    "| `!=` | not equal |\n",
    "| `is` | object identity |\n",
    "| `is not` | negated object identity |\n",
    "\n",
    "The boolean operators are:\n",
    "\n",
    "| Boolean Operator |\n",
    "| :---: |\n",
    "| `A and B` |\n",
    "| `A or B` |\n",
    "| `not A` |\n",
    "\n",
    "Use parentheses to group combinations of operators:"
   ]
  },
  {
   "cell_type": "code",
   "execution_count": null,
   "metadata": {
    "collapsed": true
   },
   "outputs": [],
   "source": [
    "(1 < 2) and (3 != 5)"
   ]
  },
  {
   "cell_type": "markdown",
   "metadata": {},
   "source": [
    "<a id='builtin-functions'></a>\n",
    "### Built-in functions\n",
    "\n",
    "The standard library has a collection of [built-in functions](https://docs.python.org/3/library/functions.html) and some of the most commonly used mathematical functions are:\n",
    "\n",
    "| Function | Description |\n",
    "| :---: | :---: |\n",
    "| `abs()` | absolute value |\n",
    "| `len()` | length |\n",
    "| `max()` | maximum |\n",
    "| `min()` | minimum |\n",
    "| `print()` | print object to output |\n",
    "| `round()` | round to nearest integer |\n",
    "| `sum()` | add elements in a sequence |\n",
    "\n",
    "For example, we compute a simple sum $1+2+3+4+5$:"
   ]
  },
  {
   "cell_type": "code",
   "execution_count": null,
   "metadata": {
    "collapsed": true
   },
   "outputs": [],
   "source": [
    "sum([1,2,3,4,5])"
   ]
  },
  {
   "cell_type": "markdown",
   "metadata": {},
   "source": [
    "<a id='list-comprehensions'></a>\n",
    "### List comprehensions\n",
    "\n",
    "Python has a beautiful syntax for creating lists called [list comprehensions](https://docs.python.org/3/tutorial/datastructures.html#list-comprehensions). The syntax is:\n",
    "\n",
    "```\n",
    "[expression for item in iterable]\n",
    "```\n",
    "\n",
    "such that:\n",
    "\n",
    "* `iterable` is a range, list, tuple, or any sequence object\n",
    "* `item` is a variable which takes each value in the iterable\n",
    "* `expression` is a Python expression which is calculated for each value of `item`\n",
    "\n",
    "For example, create the list of squares $1, 4, 9, \\dots, 100$:  "
   ]
  },
  {
   "cell_type": "code",
   "execution_count": null,
   "metadata": {
    "collapsed": true
   },
   "outputs": [],
   "source": [
    "[n**2 for n in range(1,11)]"
   ]
  },
  {
   "cell_type": "markdown",
   "metadata": {},
   "source": [
    "Create the repeated list $0,1,2,0,1,2,0,1,2,\\dots$ of length 20 (using remainder operator `%`):"
   ]
  },
  {
   "cell_type": "code",
   "execution_count": null,
   "metadata": {
    "collapsed": true
   },
   "outputs": [],
   "source": [
    "[n%3 for n in range(0,20)]"
   ]
  },
  {
   "cell_type": "markdown",
   "metadata": {},
   "source": [
    "<a id='logic-loops-functions'></a>\n",
    "### Logic, loops and functions\n",
    "\n",
    "#### if statements\n",
    "\n",
    "The following example illustrates an [if statement](https://docs.python.org/3/tutorial/controlflow.html#if-statements):"
   ]
  },
  {
   "cell_type": "code",
   "execution_count": null,
   "metadata": {
    "collapsed": true
   },
   "outputs": [],
   "source": [
    "# Variables a, b and c represent the coefficients of the quadratic polynomial\n",
    "# a*x**2 + b*x + c\n",
    "a = 2\n",
    "b = 5\n",
    "c = -3\n",
    "discriminant = b**2 - 4*a*c\n",
    "\n",
    "if discriminant > 0:\n",
    "    print('Polynomial has two real distinct roots.')\n",
    "elif discriminant < 0:\n",
    "    print('Polynomial has two complex roots.')\n",
    "else:\n",
    "    print('Polynomial has one real repeated root.')"
   ]
  },
  {
   "cell_type": "markdown",
   "metadata": {},
   "source": [
    "Notice a few important points:\n",
    "\n",
    "* keywords `if`, `elif` (optional) and `else` (optional)\n",
    "* colon : at end of each clause\n",
    "* blocks are indented standard 4 spaces"
   ]
  },
  {
   "cell_type": "markdown",
   "metadata": {},
   "source": [
    "#### Loops\n",
    "\n",
    "The following example illustrates a [for loop](https://docs.python.org/3/tutorial/controlflow.html#for-statements):"
   ]
  },
  {
   "cell_type": "code",
   "execution_count": null,
   "metadata": {
    "collapsed": true
   },
   "outputs": [],
   "source": [
    "for d in range(1,10):\n",
    "    if d % 2 == 0:\n",
    "        print(d,'is even')\n",
    "    else:\n",
    "        print(d,'is odd')"
   ]
  },
  {
   "cell_type": "markdown",
   "metadata": {},
   "source": [
    "Notice a few important points:\n",
    "\n",
    "* `iterable` is any sequence-like object\n",
    "* `item` takes each value in the iterable and executes the 4 lines in the block\n",
    "* the body of the for loop is indented 4 spaces and each block in the if statement is indented an additional 4 spaces."
   ]
  },
  {
   "cell_type": "markdown",
   "metadata": {},
   "source": [
    "The following example illustrates a [while loop](https://docs.python.org/3/tutorial/introduction.html#first-steps-towards-programming):"
   ]
  },
  {
   "cell_type": "code",
   "execution_count": null,
   "metadata": {
    "collapsed": true
   },
   "outputs": [],
   "source": [
    "n = 5\n",
    "while n > 0:\n",
    "    print(n)\n",
    "    n = n - 1"
   ]
  },
  {
   "cell_type": "markdown",
   "metadata": {},
   "source": [
    "#### Functions\n",
    "\n",
    "The following example illustrates a [function definition](https://docs.python.org/3/tutorial/controlflow.html#defining-functions):"
   ]
  },
  {
   "cell_type": "code",
   "execution_count": null,
   "metadata": {
    "collapsed": true
   },
   "outputs": [],
   "source": [
    "def average(x):\n",
    "    \"Comute the average of the values in x.\"\n",
    "    total = sum(x)\n",
    "    number = len(x)\n",
    "    return total / number"
   ]
  },
  {
   "cell_type": "markdown",
   "metadata": {},
   "source": [
    "Let's test our function:"
   ]
  },
  {
   "cell_type": "code",
   "execution_count": null,
   "metadata": {
    "collapsed": true
   },
   "outputs": [],
   "source": [
    "average([1,2,3,4])"
   ]
  },
  {
   "cell_type": "markdown",
   "metadata": {},
   "source": [
    "Notice a few important points:\n",
    "\n",
    "* keyword `def` followed by the function name and parameter(s)\n",
    "* first line ends with a colon\n",
    "* body of the function is indented 4 spaces\n",
    "* line after `def` statement is a the documentation string\n",
    "* keyword `return` (optional) specifies the return value"
   ]
  },
  {
   "cell_type": "markdown",
   "metadata": {},
   "source": [
    "<a id='packages-modules'></a>\n",
    "### Packages and modules\n",
    "\n",
    "A [module](https://docs.python.org/3/tutorial/modules.html) is simply a file containing Python code which defines variables, functions and classes, and a [package](https://docs.python.org/3/tutorial/modules.html#packages) is a collection of modules.\n",
    "\n",
    "Use the keyword [import](https://docs.python.org/3/tutorial/modules.html#more-on-modules) to import a module or packages into your Python environment. We access variables, functions, classes, etc. from a module or package using the dot notation.\n",
    "\n",
    "For example, let's import the [math module](https://docs.python.org/3/library/math.html) and do some calculations with the variable `math.pi` and the functions `math.sin` and `math.cos`:"
   ]
  },
  {
   "cell_type": "code",
   "execution_count": null,
   "metadata": {
    "collapsed": true
   },
   "outputs": [],
   "source": [
    "import math"
   ]
  },
  {
   "cell_type": "code",
   "execution_count": null,
   "metadata": {
    "collapsed": true
   },
   "outputs": [],
   "source": [
    "math.pi"
   ]
  },
  {
   "cell_type": "code",
   "execution_count": null,
   "metadata": {
    "collapsed": true
   },
   "outputs": [],
   "source": [
    "math.cos(0)"
   ]
  },
  {
   "cell_type": "code",
   "execution_count": null,
   "metadata": {
    "collapsed": true
   },
   "outputs": [],
   "source": [
    "math.sin(math.pi/2)"
   ]
  },
  {
   "cell_type": "markdown",
   "metadata": {},
   "source": [
    "<a id='python-exercises'></a>\n",
    "### Exercises"
   ]
  },
  {
   "cell_type": "markdown",
   "metadata": {},
   "source": [
    "#### Example: Ramanujan's $\\pi$ formula\n",
    "\n",
    "A special case of a formula proved by [Ramanujan](https://en.wikipedia.org/wiki/Ramanujan%E2%80%93Sato_series) in 1917 gives a series representation of $\\pi$\n",
    "\n",
    "$$\n",
    "\\frac{1}{\\pi} = \\frac{2 \\sqrt{2}}{99^2} \\sum_{k = 0}^{\\infty} \\frac{(4k)!}{k!^4} \\frac{26390k + 1103}{396^{4k}}\n",
    "$$\n",
    "\n",
    "Using only the basic arithmetic operators listed above, find an approximation of $\\pi$ by computing the *reciprocal* of the sum of the first 3 terms of the series:\n",
    "\n",
    "$$\n",
    "\\frac{99^2}{2 \\sqrt{2}} \\left( 1103 + 4! \\frac{26390 + 1103}{396^{4}} + \\frac{8!}{2!^4} \\frac{26390(2) + 1103}{396^{8}} \\right)^{-1}\n",
    "$$\n",
    "\n",
    "Import the float `pi` from the the [math module](https://docs.python.org/3/library/math.html) to verify the result."
   ]
  },
  {
   "cell_type": "markdown",
   "metadata": {},
   "source": [
    "#### Exercise: Special values of the Riemann zeta function\n",
    "\n",
    "The [Riemann zeta function](https://en.wikipedia.org/wiki/Riemann_zeta_function) is defined by the infinite series\n",
    "\n",
    "$$\n",
    "\\zeta(s) = \\sum_{n=1}^{\\infty} \\frac{1}{n^s}\n",
    "$$\n",
    "\n",
    "Write a function called `partial_zeta` which takes input parameters $s$ and $N$ and returns the partial sum\n",
    "\n",
    "$$\n",
    "\\sum_{n = 1}^{N} \\frac{1}{n^s}\n",
    "$$\n",
    "\n",
    "In 1734, Leonard Euler proved the [special value formula](https://en.wikipedia.org/wiki/Basel_problem)\n",
    "\n",
    "$$\n",
    "\\zeta(2) = \\frac{\\pi^2}{6}\n",
    "$$\n",
    "\n",
    "Use your function to verify Euler's special value formula."
   ]
  },
  {
   "cell_type": "markdown",
   "metadata": {},
   "source": [
    "#### Exercise: Primes\n",
    "\n",
    "Write a function called `primes` which takes one input parameter $N$ and returns the list of prime numbers $p \\leq N$."
   ]
  },
  {
   "cell_type": "markdown",
   "metadata": {},
   "source": [
    "#### Exercise: Collatz conjecture\n",
    "\n",
    "Let $a$ be a positive integer and consider the recursive sequence: let $a_0 = a$ and\n",
    "\n",
    "$$\n",
    "a_{n+1} = \\left\\{ \\begin{array}{ccl} a_n/2 & , & \\text{if } a_n \\text{ is even} \\\\ 3a_n+1 & , & \\text{if } a_n \\text{ is odd}  \\end{array} \\right.\n",
    "$$\n",
    "\n",
    "The [Collatz conjecture](https://en.wikipedia.org/wiki/Collatz_conjecture) states that this sequence will always reach 1.\n",
    "\n",
    "Write a function called `collatz` which takes one input parameter `a` and returns the sequence (of integers) defined above (ending with the first occurence $a_n=1$). Which $a < 1000$ produces the longest sequence?"
   ]
  }
 ],
 "metadata": {
  "kernelspec": {
   "display_name": "Python 2",
   "language": "python",
   "name": "python2"
  },
  "language_info": {
   "codemirror_mode": {
    "name": "ipython",
    "version": 2
   },
   "file_extension": ".py",
   "mimetype": "text/x-python",
   "name": "python",
   "nbconvert_exporter": "python",
   "pygments_lexer": "ipython2",
   "version": "2.7.13"
  }
 },
 "nbformat": 4,
 "nbformat_minor": 2
}
