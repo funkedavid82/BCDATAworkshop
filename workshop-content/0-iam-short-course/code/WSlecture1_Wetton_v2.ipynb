{
 "cells": [
  {
   "cell_type": "markdown",
   "metadata": {},
   "source": [
    "## Import Packages and Routines"
   ]
  },
  {
   "cell_type": "code",
   "execution_count": null,
   "metadata": {
    "collapsed": true
   },
   "outputs": [],
   "source": [
    "import numpy as np\n",
    "import scipy as sc\n",
    "import math\n",
    "import matplotlib\n",
    "import matplotlib.cm as cm\n",
    "import matplotlib.mlab as mlab\n",
    "import matplotlib.pyplot as plt\n",
    "from scipy.sparse import csr_matrix\n",
    "from scipy.sparse.linalg import spsolve\n",
    "from scipy.sparse import diags"
   ]
  },
  {
   "cell_type": "markdown",
   "metadata": {},
   "source": [
    "## Sorceror Duel: Markov Process Example"
   ]
  },
  {
   "cell_type": "markdown",
   "metadata": {},
   "source": [
    "Input the transition matrix and initial conditions "
   ]
  },
  {
   "cell_type": "code",
   "execution_count": null,
   "metadata": {},
   "outputs": [],
   "source": [
    "P = np.array([[0,0.5,0,0], [2./3.,0,0,0],[1./3.,0,1,0],[0,0.5,0,1]])\n",
    "print P\n",
    "x0 = np.array([1.,0,0,0])\n",
    "print x0"
   ]
  },
  {
   "cell_type": "markdown",
   "metadata": {},
   "source": [
    "Compute the probability vector after alpha turns"
   ]
  },
  {
   "cell_type": "code",
   "execution_count": null,
   "metadata": {},
   "outputs": [],
   "source": [
    "alpha = 5\n",
    "Palpha = np.linalg.matrix_power(P,alpha)\n",
    "xalpha = np.dot(Palpha,x0)\n",
    "print xalpha"
   ]
  },
  {
   "cell_type": "markdown",
   "metadata": {},
   "source": [
    "## 1D Problem: -u''+u = f(x), u(x) 2 pi periodic\n",
    "\n",
    "f(x) chosen to match a given exact solution u(x) for testing purposes\n",
    "\n",
    "Second order finite difference method is used \n",
    "\n",
    "The error should behave like O(1/N^2) where N is the number of grid points "
   ]
  },
  {
   "cell_type": "markdown",
   "metadata": {},
   "source": [
    "### Input and solve a 1D boundary value problem as a full matrix\n",
    "\n",
    "Solve the system, plot the results, compare to the exact solution "
   ]
  },
  {
   "cell_type": "code",
   "execution_count": null,
   "metadata": {},
   "outputs": [],
   "source": [
    "N = 16;\n",
    "pi = math.pi\n",
    "h = 2*pi/N     # grid spacing\n",
    "fact = 1/(h**2)\n",
    "ond = np.zeros(N)+2*fact+1;\n",
    "offd = np.zeros(N-1)-fact;\n",
    "A = np.diag(ond,0)+np.diag(offd,1)+np.diag(offd,-1) # matrix is mostly tridiagonal\n",
    "A[0,N-1] = -fact # terms from periodicity\n",
    "A[N-1,0] = -fact\n",
    "x = np.arange(N)*h\n",
    "uexact = np.zeros(N) # exact solution\n",
    "rhs = np.zeros(N) # RHS f that matches the exact solution\n",
    "for j in range(0,N): # could not figure out how to do this as a vector operation\n",
    "    uexact[j] = math.exp(math.cos(x[j]))\n",
    "    rhs[j] = uexact[j]*(math.cos(x[j])+math.cos(x[j])**2) \n",
    "u = np.linalg.solve(A, rhs) # solve \n",
    "plt.figure(1)\n",
    "plt.plot(x,uexact,x,u) # plot the exact and computed solutions \n",
    "# I could not figure out how to attach a legend\n",
    "plt.show()\n",
    "error = np.amax(np.absolute(u-uexact)) # maximum norm of the error\n",
    "print 'Maximum norm error %10.4e' % error"
   ]
  },
  {
   "cell_type": "markdown",
   "metadata": {},
   "source": [
    "## Input and solve the same 1D boundary value problem as a sparse matrix"
   ]
  },
  {
   "cell_type": "code",
   "execution_count": null,
   "metadata": {},
   "outputs": [],
   "source": [
    "N = 1000;\n",
    "pi = math.pi\n",
    "h = 2*pi/N\n",
    "fact = 1/(h**2)\n",
    "A = csr_matrix((N,N))\n",
    "x = np.arange(N)*h\n",
    "uexact = np.zeros(N)\n",
    "rhs = np.zeros(N)\n",
    "# This loop is inefficient but I could not find a way to input the sparse matrix as diagonals\n",
    "for j in range(0,N):  # loop by matrix row\n",
    "    A[j,j] = 2*fact+1 # diagonals\n",
    "    if j==0:\n",
    "        jm = N-1\n",
    "    else:\n",
    "        jm = j-1\n",
    "    if j==N-1:\n",
    "        jp = 0\n",
    "    else:\n",
    "        jp = j+1\n",
    "    A[j,[jp,jm]] = -fact # off diagonals\n",
    "    uexact[j] = math.exp(math.cos(x[j]))\n",
    "    rhs[j] = uexact[j]*(math.cos(x[j])+math.cos(x[j])**2)\n",
    "u = spsolve(A, rhs)\n",
    "error = np.amax(np.absolute(u-uexact))\n",
    "print 'Maximum norm error %10.4e' % error"
   ]
  },
  {
   "cell_type": "markdown",
   "metadata": {},
   "source": [
    "## 2D problem: -Lap u + u = f(x,y) with u(x,y) 2 pi periodic in x and y\n",
    "\n",
    "Second order finite difference method"
   ]
  },
  {
   "cell_type": "markdown",
   "metadata": {},
   "source": [
    "### Generate the Sparse Matrix, RHS and exact solution"
   ]
  },
  {
   "cell_type": "code",
   "execution_count": null,
   "metadata": {},
   "outputs": [],
   "source": [
    "N = 64\n",
    "N2 = N**2\n",
    "h = 2*pi/N\n",
    "fact = 1/(h**2)\n",
    "A = csr_matrix((N2,N2))\n",
    "uexact = np.zeros((N,N))\n",
    "rhs = np.zeros(N2)\n",
    "x = np.arange(N)*h\n",
    "\n",
    "\n",
    "# Inefficient but I don;t know how to input these as diagonals in scipy\n",
    "for j in range(0,N):\n",
    "    for i in range(0,N):\n",
    "        ind = i+N*j # row number\n",
    "        A[ind,ind] = 4*fact +1 # diagonal term \n",
    "        \n",
    "        if i == N-1:\n",
    "            indxp = ind-N+1\n",
    "        else: \n",
    "            indxp = ind+1\n",
    "        \n",
    "        if i == 0:\n",
    "            indxm = ind +N-1\n",
    "        else:\n",
    "            indxm = ind-1\n",
    "        \n",
    "        if j == N-1:\n",
    "            indyp = ind -N2 +N\n",
    "        else: \n",
    "            indyp = ind+N\n",
    "        \n",
    "        if j == 0:\n",
    "            indym = ind +N2-N\n",
    "        else:\n",
    "            indym = ind-N\n",
    "            \n",
    "        A[ind,[indxm,indxp,indym,indyp]] = -fact # off diagonals\n",
    "        xx = x[i]\n",
    "        yy = x[j]\n",
    "        cxx = math.cos(xx)\n",
    "        cyy = math.cos(yy)\n",
    "        ue = math.exp(cxx+cyy)\n",
    "        uexact[i,j] = ue\n",
    "        rhs[ind] = ue*(cxx + cxx**2 + cyy + cyy**2-1)\n",
    "print 'done'"
   ]
  },
  {
   "cell_type": "markdown",
   "metadata": {},
   "source": [
    "### Sparse Solve and error calculation"
   ]
  },
  {
   "cell_type": "code",
   "execution_count": null,
   "metadata": {},
   "outputs": [],
   "source": [
    "uvec = spsolve(A, rhs)\n",
    "ugrid = uvec.reshape(N,N).T # turn solution vector to a grid solution for plotting\n",
    "error = np.amax(np.absolute(ugrid-uexact))\n",
    "print 'Maximum norm error %10.4e' % error"
   ]
  },
  {
   "cell_type": "markdown",
   "metadata": {},
   "source": [
    "### Contour plot of the result"
   ]
  },
  {
   "cell_type": "code",
   "execution_count": null,
   "metadata": {},
   "outputs": [],
   "source": [
    "# Contour plots\n",
    "xv, yv = np.meshgrid(x,x)\n",
    "\n",
    "plt.figure(2)\n",
    "CS = plt.contour(xv, yv, ugrid)\n",
    "plt.clabel(CS, inline=1, fontsize=10)\n",
    "plt.title('Computed Solution')\n",
    "plt.show()\n",
    "\n",
    "plt.figure(3)\n",
    "CS = plt.contour(xv, yv, uexact)\n",
    "plt.clabel(CS, inline=1, fontsize=10)\n",
    "plt.title('Exact Solution')\n",
    "plt.show()\n",
    "\n"
   ]
  },
  {
   "cell_type": "markdown",
   "metadata": {},
   "source": [
    "### Conjugate Gradient Solve"
   ]
  },
  {
   "cell_type": "code",
   "execution_count": null,
   "metadata": {},
   "outputs": [],
   "source": [
    "uvec,cgflag = sc.sparse.linalg.cg(A, rhs, tol=1e-4)\n",
    "print 'CG routine output flag %d' % cgflag\n",
    "# uevec = uexact.reshape(N2) # turn exact solution on the grid into a vector\n",
    "\n",
    "ugrid = uvec.reshape(N,N).T # turn solution vector to a grid solution for plotting\n",
    "error = np.amax(np.absolute(ugrid-uexact))\n",
    "print 'Maximum norm error %10.4e' % error\n"
   ]
  }
 ],
 "metadata": {
  "kernelspec": {
   "display_name": "Python 2",
   "language": "python",
   "name": "python2"
  },
  "language_info": {
   "codemirror_mode": {
    "name": "ipython",
    "version": 2
   },
   "file_extension": ".py",
   "mimetype": "text/x-python",
   "name": "python",
   "nbconvert_exporter": "python",
   "pygments_lexer": "ipython2",
   "version": "2.7.13"
  }
 },
 "nbformat": 4,
 "nbformat_minor": 2
}
